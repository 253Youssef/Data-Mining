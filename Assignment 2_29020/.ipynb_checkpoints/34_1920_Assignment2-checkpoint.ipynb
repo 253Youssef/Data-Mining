{
 "cells": [
  {
   "cell_type": "markdown",
   "metadata": {},
   "source": [
    "# Team Info"
   ]
  },
  {
   "cell_type": "markdown",
   "metadata": {},
   "source": [
    "Member Name: Youssef Ayman Taher Kandil\n",
    "\n",
    "Member ID: 34-1920"
   ]
  },
  {
   "cell_type": "markdown",
   "metadata": {},
   "source": [
    "# Libraries"
   ]
  },
  {
   "cell_type": "code",
   "execution_count": 13,
   "metadata": {
    "ExecuteTime": {
     "end_time": "2019-04-04T09:31:24.348423Z",
     "start_time": "2019-04-04T09:31:24.344524Z"
    },
    "init_cell": true
   },
   "outputs": [],
   "source": [
    "import pandas as pd\n",
    "import numpy as np\n",
    "import cv2\n",
    "\n",
    "import os as os\n",
    "from os import listdir\n",
    "from os.path import isfile, join\n",
    "\n",
    "import scipy.stats\n",
    "\n",
    "import matplotlib.pyplot as plt"
   ]
  },
  {
   "cell_type": "markdown",
   "metadata": {},
   "source": [
    "# Define Directories"
   ]
  },
  {
   "cell_type": "code",
   "execution_count": 14,
   "metadata": {
    "ExecuteTime": {
     "end_time": "2019-04-04T09:31:39.017566Z",
     "start_time": "2019-04-04T09:31:39.010431Z"
    },
    "init_cell": true
   },
   "outputs": [],
   "source": [
    "train_directory = 'Train/'\n",
    "test_directory = 'Test/'\n",
    "\n",
    "train_files = [f for f in listdir(train_directory) if isfile(join(train_directory, f))]\n",
    "test_files = [f for f in listdir(test_directory) if isfile(join(test_directory, f))]"
   ]
  },
  {
   "cell_type": "markdown",
   "metadata": {},
   "source": [
    "# Creating Dataframes"
   ]
  },
  {
   "cell_type": "markdown",
   "metadata": {},
   "source": [
    "## Train Dataframe"
   ]
  },
  {
   "cell_type": "code",
   "execution_count": 15,
   "metadata": {
    "ExecuteTime": {
     "end_time": "2019-04-04T09:31:42.304117Z",
     "start_time": "2019-04-04T09:31:42.214625Z"
    },
    "init_cell": true
   },
   "outputs": [],
   "source": [
    "# Read only the 1st image to get the dimensions of the images and create pandas dataframe\n",
    "gray = cv2.imread(train_directory + '/' + train_files[0], 0)\n",
    "num_columns = range(len(gray.flatten()))\n",
    "columns = list(num_columns) + ['class']\n",
    "columns = [str(feature) for feature in columns]\n",
    "\n",
    "# Create rows array to append image flattened array to\n",
    "train_rows = []\n",
    "\n",
    "for file in train_files:\n",
    "    gray = cv2.imread(train_directory + '/' + file, 0)\n",
    "    c = file[2]\n",
    "    gray_flattened = gray.flatten() / 255\n",
    "    row = list(gray_flattened) + [c]\n",
    "    train_rows.append(row)\n",
    "    \n",
    "train_df = pd.DataFrame(train_rows, columns=columns)\n",
    "train_df.to_csv('train_df.csv', index = False)"
   ]
  },
  {
   "cell_type": "markdown",
   "metadata": {},
   "source": [
    "## Test Dataframe"
   ]
  },
  {
   "cell_type": "code",
   "execution_count": 16,
   "metadata": {
    "ExecuteTime": {
     "end_time": "2019-04-04T09:31:43.500043Z",
     "start_time": "2019-04-04T09:31:43.466574Z"
    },
    "init_cell": true
   },
   "outputs": [],
   "source": [
    "# Read only the 1st image to get the dimensions of the images and create pandas dataframe\n",
    "gray = cv2.imread(test_directory + '/' + test_files[0], 0)\n",
    "num_columns = range(len(gray.flatten()))\n",
    "columns = list(num_columns) + ['class']\n",
    "columns = [str(feature) for feature in columns]\n",
    "\n",
    "test_rows = []\n",
    "\n",
    "for file in test_files:\n",
    "    gray = cv2.imread(test_directory + '/' + file, 0)\n",
    "    c = file[2]\n",
    "    gray_flattened = gray.flatten() / 255\n",
    "    row = list(gray_flattened) + [c]\n",
    "    test_rows.append(row)\n",
    "    \n",
    "test_df = pd.DataFrame(test_rows, columns=columns)\n",
    "test_df.to_csv('test_df.csv', index = False)"
   ]
  },
  {
   "cell_type": "markdown",
   "metadata": {},
   "source": [
    "# \"Training\""
   ]
  },
  {
   "cell_type": "code",
   "execution_count": 17,
   "metadata": {
    "ExecuteTime": {
     "end_time": "2019-04-04T09:31:50.050225Z",
     "start_time": "2019-04-04T09:31:49.192648Z"
    },
    "init_cell": true
   },
   "outputs": [],
   "source": [
    "train_dict = {}\n",
    "\n",
    "unique_classes = list(set((train_df['class']).tolist()))\n",
    "\n",
    "for c in unique_classes:\n",
    "    train_dict[c] = {}\n",
    "    class_df = train_df.loc[train_df['class'] == c]\n",
    "    mean = np.mean(class_df)\n",
    "    std = np.std(class_df)\n",
    "    train_dict[c]['mean'] = mean\n",
    "    train_dict[c]['std'] = std\n",
    "    train_dict[c]['probability'] = len(class_df) / len(train_df)\n",
    "    train_dict[c]['gaus'] = scipy.stats.norm(mean, std)"
   ]
  },
  {
   "cell_type": "markdown",
   "metadata": {},
   "source": [
    "# Create Right  & Wrong Predictions Dictionaries"
   ]
  },
  {
   "cell_type": "code",
   "execution_count": 18,
   "metadata": {
    "ExecuteTime": {
     "end_time": "2019-04-04T09:31:52.383968Z",
     "start_time": "2019-04-04T09:31:52.378267Z"
    },
    "init_cell": true
   },
   "outputs": [],
   "source": [
    "correct_predictions = {}\n",
    "for c in unique_classes:\n",
    "    correct_predictions[c] = 0\n",
    "    \n",
    "wrong_predictions = {}\n",
    "for c in unique_classes:\n",
    "    wrong_predictions[c] = {}\n",
    "    for c2 in set((train_df['class']).tolist()):\n",
    "        if (c!=c2):\n",
    "            wrong_predictions[c][c2] = 0"
   ]
  },
  {
   "cell_type": "markdown",
   "metadata": {},
   "source": [
    "# Predictions"
   ]
  },
  {
   "cell_type": "code",
   "execution_count": 19,
   "metadata": {
    "ExecuteTime": {
     "end_time": "2019-04-04T09:31:54.158034Z",
     "start_time": "2019-04-04T09:31:53.810035Z"
    },
    "scrolled": false
   },
   "outputs": [
    {
     "name": "stderr",
     "output_type": "stream",
     "text": [
      "/home/youssef253/anaconda3/envs/py37/lib/python3.6/site-packages/scipy/stats/_distn_infrastructure.py:1662: RuntimeWarning: invalid value encountered in true_divide\n",
      "  x = np.asarray((x - loc)/scale, dtype=dtyp)\n",
      "/home/youssef253/anaconda3/envs/py37/lib/python3.6/site-packages/scipy/stats/_distn_infrastructure.py:874: RuntimeWarning: invalid value encountered in greater_equal\n",
      "  return (self.a <= x) & (x <= self.b)\n",
      "/home/youssef253/anaconda3/envs/py37/lib/python3.6/site-packages/scipy/stats/_distn_infrastructure.py:874: RuntimeWarning: invalid value encountered in less_equal\n",
      "  return (self.a <= x) & (x <= self.b)\n",
      "/home/youssef253/anaconda3/envs/py37/lib/python3.6/site-packages/ipykernel_launcher.py:15: RuntimeWarning: invalid value encountered in less\n",
      "  from ipykernel import kernelapp as app\n",
      "/home/youssef253/anaconda3/envs/py37/lib/python3.6/site-packages/scipy/stats/_distn_infrastructure.py:1662: RuntimeWarning: divide by zero encountered in true_divide\n",
      "  x = np.asarray((x - loc)/scale, dtype=dtyp)\n"
     ]
    }
   ],
   "source": [
    "for index, datapoint in test_df.iterrows():\n",
    "        \n",
    "    actual_class = datapoint['class']\n",
    "    \n",
    "    datapoint_features = pd.to_numeric(datapoint[list(num_columns)], errors='coerce')\n",
    "\n",
    "    pred_dict = {}\n",
    "    \n",
    "    for c in unique_classes:\n",
    "        \n",
    "        gaus = train_dict[c]['gaus']\n",
    "        class_probability = train_dict[c]['probability']\n",
    "        \n",
    "        probabilities = gaus.pdf(datapoint_features)\n",
    "        probabilities[(np.isnan(probabilities)) | (probabilities < 0.1)] = 0.1\n",
    "        product_probability = np.prod(probabilities)\n",
    "        \n",
    "        pred_probability = product_probability * class_probability\n",
    "        \n",
    "        pred_dict[c] = pred_probability\n",
    "        \n",
    "    max_class = max(pred_dict, key=lambda key: pred_dict[key])\n",
    "    \n",
    "    if actual_class == max_class:\n",
    "        correct_predictions[actual_class] += 1 \n",
    "    else:\n",
    "        wrong_predictions[actual_class][max_class] += 1"
   ]
  },
  {
   "cell_type": "markdown",
   "metadata": {},
   "source": [
    "# Write Predictions to Files"
   ]
  },
  {
   "cell_type": "code",
   "execution_count": 20,
   "metadata": {
    "ExecuteTime": {
     "end_time": "2019-04-04T09:31:55.596588Z",
     "start_time": "2019-04-04T09:31:55.567093Z"
    }
   },
   "outputs": [],
   "source": [
    "predictions_directory = 'Predictions/'\n",
    "\n",
    "if not os.path.exists(predictions_directory):\n",
    "            os.makedirs(predictions_directory)\n",
    "\n",
    "output = open(\"correct_predictions.txt\", \"w+\")\n",
    "correct_predictions_sorted = sorted(correct_predictions.items(), key=lambda kv: -1*kv[1])\n",
    "\n",
    "output_string = ''\n",
    "for key in correct_predictions_sorted:\n",
    "    output_string = output_string + (key[0] + ': ' + str(key[1]) + '\\n')\n",
    "output.write(output_string)\n",
    "\n",
    "for c in wrong_predictions:\n",
    "    output = open(predictions_directory + c + \".txt\", \"w+\")\n",
    "    output_string = ''\n",
    "    for c2 in wrong_predictions[c]:\n",
    "        output_string = output_string + (c2 + ': ' + str(wrong_predictions[c][c2]) + '\\n')\n",
    "    output.write(output_string)"
   ]
  },
  {
   "cell_type": "markdown",
   "metadata": {},
   "source": [
    "# Bar Chart for Correct Predictions"
   ]
  },
  {
   "cell_type": "code",
   "execution_count": 21,
   "metadata": {
    "ExecuteTime": {
     "end_time": "2019-04-04T09:31:57.935529Z",
     "start_time": "2019-04-04T09:31:57.608683Z"
    }
   },
   "outputs": [
    {
     "data": {
      "text/plain": [
       "<function matplotlib.pyplot.show(*args, **kw)>"
      ]
     },
     "execution_count": 21,
     "metadata": {},
     "output_type": "execute_result"
    },
    {
     "data": {
      "image/png": "[encoded data removed]",
      "text/plain": [
       "<Figure size 432x288 with 1 Axes>"
      ]
     },
     "metadata": {
      "needs_background": "light"
     },
     "output_type": "display_data"
    }
   ],
   "source": [
    "plt.bar(range(len(correct_predictions)), list(correct_predictions.values()))\n",
    "plt.xticks(range(len(correct_predictions)), list(correct_predictions.keys()))\n",
    "plt.savefig('Accuracy.jpg', dpi=100)\n",
    "plt.show"
   ]
  },
  {
   "cell_type": "code",
   "execution_count": null,
   "metadata": {},
   "outputs": [],
   "source": []
  }
 ],
 "metadata": {
  "celltoolbar": "Initialization Cell",
  "kernelspec": {
   "display_name": "Python 3",
   "language": "python",
   "name": "python3"
  },
  "language_info": {
   "codemirror_mode": {
    "name": "ipython",
    "version": 3
   },
   "file_extension": ".py",
   "mimetype": "text/x-python",
   "name": "python",
   "nbconvert_exporter": "python",
   "pygments_lexer": "ipython3",
   "version": "3.6.7"
  },
  "toc": {
   "base_numbering": 1,
   "nav_menu": {},
   "number_sections": true,
   "sideBar": true,
   "skip_h1_title": false,
   "title_cell": "Table of Contents",
   "title_sidebar": "Contents",
   "toc_cell": false,
   "toc_position": {
    "height": "calc(100% - 180px)",
    "left": "10px",
    "top": "150px",
    "width": "384px"
   },
   "toc_section_display": true,
   "toc_window_display": true
  },
  "varInspector": {
   "cols": {
    "lenName": 16,
    "lenType": 16,
    "lenVar": 40
   },
   "kernels_config": {
    "python": {
     "delete_cmd_postfix": "",
     "delete_cmd_prefix": "del ",
     "library": "var_list.py",
     "varRefreshCmd": "print(var_dic_list())"
    },
    "r": {
     "delete_cmd_postfix": ") ",
     "delete_cmd_prefix": "rm(",
     "library": "var_list.r",
     "varRefreshCmd": "cat(var_dic_list()) "
    }
   },
   "types_to_exclude": [
    "module",
    "function",
    "builtin_function_or_method",
    "instance",
    "_Feature"
   ],
   "window_display": false
  }
 },
 "nbformat": 4,
 "nbformat_minor": 2
}
